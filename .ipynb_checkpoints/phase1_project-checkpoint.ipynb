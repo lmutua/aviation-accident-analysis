{
 "cells": [
  {
   "cell_type": "markdown",
   "id": "c370e55d-48a1-4c29-b03c-0ffe0d6bc1e3",
   "metadata": {},
   "source": [
    "# Aviation Accident Risk Analysis"
   ]
  },
  {
   "cell_type": "markdown",
   "id": "7e193acd-4684-43e8-a941-df6275b93584",
   "metadata": {},
   "source": [
    "## Introduction  \n",
    "Our company is expanding into the Aviation Industry and aims to purchase and operate aircraft for commercial and private enterprises. However, the aviation industry presents significant safety risks, and the company's goal in identifying low-risk aircraft models.\n",
    "\n",
    "To minimize risk and maximize safety, we must determine which aircraft types have the lowest accident rates and severity levels. This analysis will provide insights into accident trends, key risk factors, and aircraft safety records.\n"
   ]
  },
  {
   "cell_type": "markdown",
   "id": "aebed33e-318d-4b51-84b6-865a216fae96",
   "metadata": {
    "jp-MarkdownHeadingCollapsed": true
   },
   "source": [
    "## Data Understanding\n",
    "\n",
    "#### Data Source and why it is suitable for the project.\n",
    "  \n",
    "The data is from the National Transportation Safety Board(NTSB) and has aviation data from the year 1962 to 2023. This data is suitable for the project since it provides detailed history of aviation accidents as well as their causes. It will allow the business make data-driven decisons when selecting the suitable aircraft for purchase.\n",
    "\n",
    "#### Descriptive statistics of the data\n",
    "\n",
    "Descrptive analysis of the data will be performed using **.describe()** method to summarize key statistics. This will help reveal things such as the mean number of injuries per accidents as well as the variance to show the severity differences among aircraft models, makes and categories.\n",
    "\n",
    "#### Justification of the inclusion of features based on their properties and relevance for the project\n",
    "  \n",
    "The features Aircraft model, aircraft make and category are important for identifying low-risk aircraft. \n",
    "\n",
    "*1. Aircraft model: Helps determine historically safer aircraft models by showing specific types of aircraft with their recorded injuries.*\n",
    "\n",
    "*2. Aircraft category: Helps determine categories that are more prone to accidents by classifying aircrafts based on their use(eg. commercial, personal).*\n",
    "\n",
    "*3. Aircraft make: Helps the business to assess brands that produce more reliable aircraft.*\n",
    "\n",
    "#### Limitations of the data that have implications for the project\n",
    "\n",
    "1. The dataset does not include external influences like pilot experience or maintenance records, which also affect aviation safety.\n",
    "2. Potential data gaps such as missing values in some fields.\n"
   ]
  },
  {
   "cell_type": "markdown",
   "id": "afce7bdd-93fd-405f-a58e-24cd107fa59b",
   "metadata": {},
   "source": [
    "# Data Preparation"
   ]
  },
  {
   "cell_type": "code",
   "execution_count": 1,
   "id": "1ddccca7-5bd1-4dac-aac1-934dc50b45a8",
   "metadata": {},
   "outputs": [],
   "source": [
    "import pandas as pd\n",
    "import numpy as np\n",
    "import matplotlib.pyplot as plt\n",
    "import seaborn as sns"
   ]
  },
  {
   "cell_type": "markdown",
   "id": "39d0cca7",
   "metadata": {},
   "source": [
    "**Loading States code data into a pandas dataframe & exploring the top 5 rows.**\n",
    "\n",
    "  ***.head()*** helps get the first 5 rows"
   ]
  },
  {
   "cell_type": "code",
   "execution_count": 2,
   "id": "b2226ade",
   "metadata": {},
   "outputs": [
    {
     "data": {
      "text/html": [
       "<div>\n",
       "<style scoped>\n",
       "    .dataframe tbody tr th:only-of-type {\n",
       "        vertical-align: middle;\n",
       "    }\n",
       "\n",
       "    .dataframe tbody tr th {\n",
       "        vertical-align: top;\n",
       "    }\n",
       "\n",
       "    .dataframe thead th {\n",
       "        text-align: right;\n",
       "    }\n",
       "</style>\n",
       "<table border=\"1\" class=\"dataframe\">\n",
       "  <thead>\n",
       "    <tr style=\"text-align: right;\">\n",
       "      <th></th>\n",
       "      <th>US_State</th>\n",
       "      <th>Abbreviation</th>\n",
       "    </tr>\n",
       "  </thead>\n",
       "  <tbody>\n",
       "    <tr>\n",
       "      <th>0</th>\n",
       "      <td>Alabama</td>\n",
       "      <td>AL</td>\n",
       "    </tr>\n",
       "    <tr>\n",
       "      <th>1</th>\n",
       "      <td>Alaska</td>\n",
       "      <td>AK</td>\n",
       "    </tr>\n",
       "    <tr>\n",
       "      <th>2</th>\n",
       "      <td>Arizona</td>\n",
       "      <td>AZ</td>\n",
       "    </tr>\n",
       "    <tr>\n",
       "      <th>3</th>\n",
       "      <td>Arkansas</td>\n",
       "      <td>AR</td>\n",
       "    </tr>\n",
       "    <tr>\n",
       "      <th>4</th>\n",
       "      <td>California</td>\n",
       "      <td>CA</td>\n",
       "    </tr>\n",
       "  </tbody>\n",
       "</table>\n",
       "</div>"
      ],
      "text/plain": [
       "     US_State Abbreviation\n",
       "0     Alabama           AL\n",
       "1      Alaska           AK\n",
       "2     Arizona           AZ\n",
       "3    Arkansas           AR\n",
       "4  California           CA"
      ]
     },
     "execution_count": 2,
     "metadata": {},
     "output_type": "execute_result"
    }
   ],
   "source": [
    "states_df = pd.read_csv(\"USState_Codes.csv\")\n",
    "states_df.head()"
   ]
  },
  {
   "cell_type": "markdown",
   "id": "20fe1656",
   "metadata": {},
   "source": [
    "**Loading *aviation data* and exploring the top 5 rows.**\n",
    "  \n",
    "Using *encoding=\"ISO-8859-1\"* since the data has special characters that may not be readable using the default UTF-8 encoding, and *low_memory=False* since some of the columns have mixed data types."
   ]
  },
  {
   "cell_type": "code",
   "execution_count": 3,
   "id": "2b80a0a0-6813-4087-9141-0faf1ac0f5f1",
   "metadata": {},
   "outputs": [
    {
     "data": {
      "text/html": [
       "<div>\n",
       "<style scoped>\n",
       "    .dataframe tbody tr th:only-of-type {\n",
       "        vertical-align: middle;\n",
       "    }\n",
       "\n",
       "    .dataframe tbody tr th {\n",
       "        vertical-align: top;\n",
       "    }\n",
       "\n",
       "    .dataframe thead th {\n",
       "        text-align: right;\n",
       "    }\n",
       "</style>\n",
       "<table border=\"1\" class=\"dataframe\">\n",
       "  <thead>\n",
       "    <tr style=\"text-align: right;\">\n",
       "      <th></th>\n",
       "      <th>Event.Id</th>\n",
       "      <th>Investigation.Type</th>\n",
       "      <th>Accident.Number</th>\n",
       "      <th>Event.Date</th>\n",
       "      <th>Location</th>\n",
       "      <th>Country</th>\n",
       "      <th>Latitude</th>\n",
       "      <th>Longitude</th>\n",
       "      <th>Airport.Code</th>\n",
       "      <th>Airport.Name</th>\n",
       "      <th>...</th>\n",
       "      <th>Purpose.of.flight</th>\n",
       "      <th>Air.carrier</th>\n",
       "      <th>Total.Fatal.Injuries</th>\n",
       "      <th>Total.Serious.Injuries</th>\n",
       "      <th>Total.Minor.Injuries</th>\n",
       "      <th>Total.Uninjured</th>\n",
       "      <th>Weather.Condition</th>\n",
       "      <th>Broad.phase.of.flight</th>\n",
       "      <th>Report.Status</th>\n",
       "      <th>Publication.Date</th>\n",
       "    </tr>\n",
       "  </thead>\n",
       "  <tbody>\n",
       "    <tr>\n",
       "      <th>0</th>\n",
       "      <td>20001218X45444</td>\n",
       "      <td>Accident</td>\n",
       "      <td>SEA87LA080</td>\n",
       "      <td>1948-10-24</td>\n",
       "      <td>MOOSE CREEK, ID</td>\n",
       "      <td>United States</td>\n",
       "      <td>NaN</td>\n",
       "      <td>NaN</td>\n",
       "      <td>NaN</td>\n",
       "      <td>NaN</td>\n",
       "      <td>...</td>\n",
       "      <td>Personal</td>\n",
       "      <td>NaN</td>\n",
       "      <td>2.0</td>\n",
       "      <td>0.0</td>\n",
       "      <td>0.0</td>\n",
       "      <td>0.0</td>\n",
       "      <td>UNK</td>\n",
       "      <td>Cruise</td>\n",
       "      <td>Probable Cause</td>\n",
       "      <td>NaN</td>\n",
       "    </tr>\n",
       "    <tr>\n",
       "      <th>1</th>\n",
       "      <td>20001218X45447</td>\n",
       "      <td>Accident</td>\n",
       "      <td>LAX94LA336</td>\n",
       "      <td>1962-07-19</td>\n",
       "      <td>BRIDGEPORT, CA</td>\n",
       "      <td>United States</td>\n",
       "      <td>NaN</td>\n",
       "      <td>NaN</td>\n",
       "      <td>NaN</td>\n",
       "      <td>NaN</td>\n",
       "      <td>...</td>\n",
       "      <td>Personal</td>\n",
       "      <td>NaN</td>\n",
       "      <td>4.0</td>\n",
       "      <td>0.0</td>\n",
       "      <td>0.0</td>\n",
       "      <td>0.0</td>\n",
       "      <td>UNK</td>\n",
       "      <td>Unknown</td>\n",
       "      <td>Probable Cause</td>\n",
       "      <td>19-09-1996</td>\n",
       "    </tr>\n",
       "    <tr>\n",
       "      <th>2</th>\n",
       "      <td>20061025X01555</td>\n",
       "      <td>Accident</td>\n",
       "      <td>NYC07LA005</td>\n",
       "      <td>1974-08-30</td>\n",
       "      <td>Saltville, VA</td>\n",
       "      <td>United States</td>\n",
       "      <td>36.922223</td>\n",
       "      <td>-81.878056</td>\n",
       "      <td>NaN</td>\n",
       "      <td>NaN</td>\n",
       "      <td>...</td>\n",
       "      <td>Personal</td>\n",
       "      <td>NaN</td>\n",
       "      <td>3.0</td>\n",
       "      <td>NaN</td>\n",
       "      <td>NaN</td>\n",
       "      <td>NaN</td>\n",
       "      <td>IMC</td>\n",
       "      <td>Cruise</td>\n",
       "      <td>Probable Cause</td>\n",
       "      <td>26-02-2007</td>\n",
       "    </tr>\n",
       "    <tr>\n",
       "      <th>3</th>\n",
       "      <td>20001218X45448</td>\n",
       "      <td>Accident</td>\n",
       "      <td>LAX96LA321</td>\n",
       "      <td>1977-06-19</td>\n",
       "      <td>EUREKA, CA</td>\n",
       "      <td>United States</td>\n",
       "      <td>NaN</td>\n",
       "      <td>NaN</td>\n",
       "      <td>NaN</td>\n",
       "      <td>NaN</td>\n",
       "      <td>...</td>\n",
       "      <td>Personal</td>\n",
       "      <td>NaN</td>\n",
       "      <td>2.0</td>\n",
       "      <td>0.0</td>\n",
       "      <td>0.0</td>\n",
       "      <td>0.0</td>\n",
       "      <td>IMC</td>\n",
       "      <td>Cruise</td>\n",
       "      <td>Probable Cause</td>\n",
       "      <td>12-09-2000</td>\n",
       "    </tr>\n",
       "    <tr>\n",
       "      <th>4</th>\n",
       "      <td>20041105X01764</td>\n",
       "      <td>Accident</td>\n",
       "      <td>CHI79FA064</td>\n",
       "      <td>1979-08-02</td>\n",
       "      <td>Canton, OH</td>\n",
       "      <td>United States</td>\n",
       "      <td>NaN</td>\n",
       "      <td>NaN</td>\n",
       "      <td>NaN</td>\n",
       "      <td>NaN</td>\n",
       "      <td>...</td>\n",
       "      <td>Personal</td>\n",
       "      <td>NaN</td>\n",
       "      <td>1.0</td>\n",
       "      <td>2.0</td>\n",
       "      <td>NaN</td>\n",
       "      <td>0.0</td>\n",
       "      <td>VMC</td>\n",
       "      <td>Approach</td>\n",
       "      <td>Probable Cause</td>\n",
       "      <td>16-04-1980</td>\n",
       "    </tr>\n",
       "  </tbody>\n",
       "</table>\n",
       "<p>5 rows × 31 columns</p>\n",
       "</div>"
      ],
      "text/plain": [
       "         Event.Id Investigation.Type Accident.Number  Event.Date  \\\n",
       "0  20001218X45444           Accident      SEA87LA080  1948-10-24   \n",
       "1  20001218X45447           Accident      LAX94LA336  1962-07-19   \n",
       "2  20061025X01555           Accident      NYC07LA005  1974-08-30   \n",
       "3  20001218X45448           Accident      LAX96LA321  1977-06-19   \n",
       "4  20041105X01764           Accident      CHI79FA064  1979-08-02   \n",
       "\n",
       "          Location        Country   Latitude   Longitude Airport.Code  \\\n",
       "0  MOOSE CREEK, ID  United States        NaN         NaN          NaN   \n",
       "1   BRIDGEPORT, CA  United States        NaN         NaN          NaN   \n",
       "2    Saltville, VA  United States  36.922223  -81.878056          NaN   \n",
       "3       EUREKA, CA  United States        NaN         NaN          NaN   \n",
       "4       Canton, OH  United States        NaN         NaN          NaN   \n",
       "\n",
       "  Airport.Name  ... Purpose.of.flight Air.carrier Total.Fatal.Injuries  \\\n",
       "0          NaN  ...          Personal         NaN                  2.0   \n",
       "1          NaN  ...          Personal         NaN                  4.0   \n",
       "2          NaN  ...          Personal         NaN                  3.0   \n",
       "3          NaN  ...          Personal         NaN                  2.0   \n",
       "4          NaN  ...          Personal         NaN                  1.0   \n",
       "\n",
       "  Total.Serious.Injuries Total.Minor.Injuries Total.Uninjured  \\\n",
       "0                    0.0                  0.0             0.0   \n",
       "1                    0.0                  0.0             0.0   \n",
       "2                    NaN                  NaN             NaN   \n",
       "3                    0.0                  0.0             0.0   \n",
       "4                    2.0                  NaN             0.0   \n",
       "\n",
       "  Weather.Condition  Broad.phase.of.flight   Report.Status Publication.Date  \n",
       "0               UNK                 Cruise  Probable Cause              NaN  \n",
       "1               UNK                Unknown  Probable Cause       19-09-1996  \n",
       "2               IMC                 Cruise  Probable Cause       26-02-2007  \n",
       "3               IMC                 Cruise  Probable Cause       12-09-2000  \n",
       "4               VMC               Approach  Probable Cause       16-04-1980  \n",
       "\n",
       "[5 rows x 31 columns]"
      ]
     },
     "execution_count": 3,
     "metadata": {},
     "output_type": "execute_result"
    }
   ],
   "source": [
    "aviation_df = pd.read_csv(\"AviationData.csv\", encoding=\"ISO-8859-1\", low_memory=False)\n",
    "aviation_df.head()"
   ]
  },
  {
   "cell_type": "markdown",
   "id": "23fa240b-1236-4e39-a42b-90b77d566186",
   "metadata": {},
   "source": [
    "**Getting the summary of the DataFrame to understand it's structure using .info()**"
   ]
  },
  {
   "cell_type": "code",
   "execution_count": 4,
   "id": "860df8f2-6966-4b39-be3e-3e30eef8f9d4",
   "metadata": {},
   "outputs": [
    {
     "name": "stdout",
     "output_type": "stream",
     "text": [
      "<class 'pandas.core.frame.DataFrame'>\n",
      "RangeIndex: 88889 entries, 0 to 88888\n",
      "Data columns (total 31 columns):\n",
      " #   Column                  Non-Null Count  Dtype  \n",
      "---  ------                  --------------  -----  \n",
      " 0   Event.Id                88889 non-null  object \n",
      " 1   Investigation.Type      88889 non-null  object \n",
      " 2   Accident.Number         88889 non-null  object \n",
      " 3   Event.Date              88889 non-null  object \n",
      " 4   Location                88837 non-null  object \n",
      " 5   Country                 88663 non-null  object \n",
      " 6   Latitude                34382 non-null  object \n",
      " 7   Longitude               34373 non-null  object \n",
      " 8   Airport.Code            50132 non-null  object \n",
      " 9   Airport.Name            52704 non-null  object \n",
      " 10  Injury.Severity         87889 non-null  object \n",
      " 11  Aircraft.damage         85695 non-null  object \n",
      " 12  Aircraft.Category       32287 non-null  object \n",
      " 13  Registration.Number     87507 non-null  object \n",
      " 14  Make                    88826 non-null  object \n",
      " 15  Model                   88797 non-null  object \n",
      " 16  Amateur.Built           88787 non-null  object \n",
      " 17  Number.of.Engines       82805 non-null  float64\n",
      " 18  Engine.Type             81793 non-null  object \n",
      " 19  FAR.Description         32023 non-null  object \n",
      " 20  Schedule                12582 non-null  object \n",
      " 21  Purpose.of.flight       82697 non-null  object \n",
      " 22  Air.carrier             16648 non-null  object \n",
      " 23  Total.Fatal.Injuries    77488 non-null  float64\n",
      " 24  Total.Serious.Injuries  76379 non-null  float64\n",
      " 25  Total.Minor.Injuries    76956 non-null  float64\n",
      " 26  Total.Uninjured         82977 non-null  float64\n",
      " 27  Weather.Condition       84397 non-null  object \n",
      " 28  Broad.phase.of.flight   61724 non-null  object \n",
      " 29  Report.Status           82505 non-null  object \n",
      " 30  Publication.Date        75118 non-null  object \n",
      "dtypes: float64(5), object(26)\n",
      "memory usage: 21.0+ MB\n"
     ]
    }
   ],
   "source": [
    "aviation_df.info()   "
   ]
  },
  {
   "cell_type": "code",
   "execution_count": 5,
   "id": "28176f2e-98bd-4a4e-83ee-b6538699e378",
   "metadata": {},
   "outputs": [
    {
     "data": {
      "text/plain": [
       "Index(['Event.Id', 'Investigation.Type', 'Accident.Number', 'Event.Date',\n",
       "       'Location', 'Country', 'Latitude', 'Longitude', 'Airport.Code',\n",
       "       'Airport.Name', 'Injury.Severity', 'Aircraft.damage',\n",
       "       'Aircraft.Category', 'Registration.Number', 'Make', 'Model',\n",
       "       'Amateur.Built', 'Number.of.Engines', 'Engine.Type', 'FAR.Description',\n",
       "       'Schedule', 'Purpose.of.flight', 'Air.carrier', 'Total.Fatal.Injuries',\n",
       "       'Total.Serious.Injuries', 'Total.Minor.Injuries', 'Total.Uninjured',\n",
       "       'Weather.Condition', 'Broad.phase.of.flight', 'Report.Status',\n",
       "       'Publication.Date'],\n",
       "      dtype='object')"
      ]
     },
     "execution_count": 5,
     "metadata": {},
     "output_type": "execute_result"
    }
   ],
   "source": [
    "aviation_df.columns"
   ]
  },
  {
   "cell_type": "markdown",
   "id": "c0a5a519-6ca8-4c58-977a-08a07a1d095e",
   "metadata": {},
   "source": [
    "**Checking for the statistical information in the data**"
   ]
  },
  {
   "cell_type": "code",
   "execution_count": 6,
   "id": "659b25a3-883e-47c9-bdd5-55ba17b941f7",
   "metadata": {},
   "outputs": [
    {
     "data": {
      "text/html": [
       "<div>\n",
       "<style scoped>\n",
       "    .dataframe tbody tr th:only-of-type {\n",
       "        vertical-align: middle;\n",
       "    }\n",
       "\n",
       "    .dataframe tbody tr th {\n",
       "        vertical-align: top;\n",
       "    }\n",
       "\n",
       "    .dataframe thead th {\n",
       "        text-align: right;\n",
       "    }\n",
       "</style>\n",
       "<table border=\"1\" class=\"dataframe\">\n",
       "  <thead>\n",
       "    <tr style=\"text-align: right;\">\n",
       "      <th></th>\n",
       "      <th>Number.of.Engines</th>\n",
       "      <th>Total.Fatal.Injuries</th>\n",
       "      <th>Total.Serious.Injuries</th>\n",
       "      <th>Total.Minor.Injuries</th>\n",
       "      <th>Total.Uninjured</th>\n",
       "    </tr>\n",
       "  </thead>\n",
       "  <tbody>\n",
       "    <tr>\n",
       "      <th>count</th>\n",
       "      <td>82805.000000</td>\n",
       "      <td>77488.000000</td>\n",
       "      <td>76379.000000</td>\n",
       "      <td>76956.000000</td>\n",
       "      <td>82977.000000</td>\n",
       "    </tr>\n",
       "    <tr>\n",
       "      <th>mean</th>\n",
       "      <td>1.146585</td>\n",
       "      <td>0.647855</td>\n",
       "      <td>0.279881</td>\n",
       "      <td>0.357061</td>\n",
       "      <td>5.325440</td>\n",
       "    </tr>\n",
       "    <tr>\n",
       "      <th>std</th>\n",
       "      <td>0.446510</td>\n",
       "      <td>5.485960</td>\n",
       "      <td>1.544084</td>\n",
       "      <td>2.235625</td>\n",
       "      <td>27.913634</td>\n",
       "    </tr>\n",
       "    <tr>\n",
       "      <th>min</th>\n",
       "      <td>0.000000</td>\n",
       "      <td>0.000000</td>\n",
       "      <td>0.000000</td>\n",
       "      <td>0.000000</td>\n",
       "      <td>0.000000</td>\n",
       "    </tr>\n",
       "    <tr>\n",
       "      <th>25%</th>\n",
       "      <td>1.000000</td>\n",
       "      <td>0.000000</td>\n",
       "      <td>0.000000</td>\n",
       "      <td>0.000000</td>\n",
       "      <td>0.000000</td>\n",
       "    </tr>\n",
       "    <tr>\n",
       "      <th>50%</th>\n",
       "      <td>1.000000</td>\n",
       "      <td>0.000000</td>\n",
       "      <td>0.000000</td>\n",
       "      <td>0.000000</td>\n",
       "      <td>1.000000</td>\n",
       "    </tr>\n",
       "    <tr>\n",
       "      <th>75%</th>\n",
       "      <td>1.000000</td>\n",
       "      <td>0.000000</td>\n",
       "      <td>0.000000</td>\n",
       "      <td>0.000000</td>\n",
       "      <td>2.000000</td>\n",
       "    </tr>\n",
       "    <tr>\n",
       "      <th>max</th>\n",
       "      <td>8.000000</td>\n",
       "      <td>349.000000</td>\n",
       "      <td>161.000000</td>\n",
       "      <td>380.000000</td>\n",
       "      <td>699.000000</td>\n",
       "    </tr>\n",
       "  </tbody>\n",
       "</table>\n",
       "</div>"
      ],
      "text/plain": [
       "       Number.of.Engines  Total.Fatal.Injuries  Total.Serious.Injuries  \\\n",
       "count       82805.000000          77488.000000            76379.000000   \n",
       "mean            1.146585              0.647855                0.279881   \n",
       "std             0.446510              5.485960                1.544084   \n",
       "min             0.000000              0.000000                0.000000   \n",
       "25%             1.000000              0.000000                0.000000   \n",
       "50%             1.000000              0.000000                0.000000   \n",
       "75%             1.000000              0.000000                0.000000   \n",
       "max             8.000000            349.000000              161.000000   \n",
       "\n",
       "       Total.Minor.Injuries  Total.Uninjured  \n",
       "count          76956.000000     82977.000000  \n",
       "mean               0.357061         5.325440  \n",
       "std                2.235625        27.913634  \n",
       "min                0.000000         0.000000  \n",
       "25%                0.000000         0.000000  \n",
       "50%                0.000000         1.000000  \n",
       "75%                0.000000         2.000000  \n",
       "max              380.000000       699.000000  "
      ]
     },
     "execution_count": 6,
     "metadata": {},
     "output_type": "execute_result"
    }
   ],
   "source": [
    "aviation_df.describe()"
   ]
  },
  {
   "cell_type": "markdown",
   "id": "efc36b54-331a-4add-ba79-40307de518af",
   "metadata": {},
   "source": [
    "**Checking for duplicates in the data**"
   ]
  },
  {
   "cell_type": "code",
   "execution_count": 7,
   "id": "91078ae9-93a4-4a47-972c-81d179d97179",
   "metadata": {},
   "outputs": [
    {
     "data": {
      "text/plain": [
       "False    88889\n",
       "Name: count, dtype: int64"
      ]
     },
     "execution_count": 7,
     "metadata": {},
     "output_type": "execute_result"
    }
   ],
   "source": [
    "aviation_df.duplicated().value_counts()"
   ]
  },
  {
   "cell_type": "markdown",
   "id": "e146c4c3-19af-4b8a-9d25-d6d217c81ca4",
   "metadata": {},
   "source": [
    "**Checking for null values**"
   ]
  },
  {
   "cell_type": "code",
   "execution_count": 8,
   "id": "d34a86fd-58e7-4597-812f-4970babfb795",
   "metadata": {},
   "outputs": [
    {
     "data": {
      "text/plain": [
       "Event.Id                      0\n",
       "Investigation.Type            0\n",
       "Accident.Number               0\n",
       "Event.Date                    0\n",
       "Location                     52\n",
       "Country                     226\n",
       "Latitude                  54507\n",
       "Longitude                 54516\n",
       "Airport.Code              38757\n",
       "Airport.Name              36185\n",
       "Injury.Severity            1000\n",
       "Aircraft.damage            3194\n",
       "Aircraft.Category         56602\n",
       "Registration.Number        1382\n",
       "Make                         63\n",
       "Model                        92\n",
       "Amateur.Built               102\n",
       "Number.of.Engines          6084\n",
       "Engine.Type                7096\n",
       "FAR.Description           56866\n",
       "Schedule                  76307\n",
       "Purpose.of.flight          6192\n",
       "Air.carrier               72241\n",
       "Total.Fatal.Injuries      11401\n",
       "Total.Serious.Injuries    12510\n",
       "Total.Minor.Injuries      11933\n",
       "Total.Uninjured            5912\n",
       "Weather.Condition          4492\n",
       "Broad.phase.of.flight     27165\n",
       "Report.Status              6384\n",
       "Publication.Date          13771\n",
       "dtype: int64"
      ]
     },
     "execution_count": 8,
     "metadata": {},
     "output_type": "execute_result"
    }
   ],
   "source": [
    "aviation_df.isna().sum()"
   ]
  },
  {
   "cell_type": "markdown",
   "id": "102c5f67-ce1b-4ead-907d-822ca2260c29",
   "metadata": {},
   "source": [
    "**Creating a column Total.injuries to get the total number of injuries row-wise**"
   ]
  },
  {
   "cell_type": "code",
   "execution_count": 9,
   "id": "c26b34de-2705-4cc6-a81a-a3e4337b34ce",
   "metadata": {},
   "outputs": [],
   "source": [
    "aviation_df['Total.Injuries'] = aviation_df[\n",
    "    ['Total.Fatal.Injuries', 'Total.Serious.Injuries', 'Total.Minor.Injuries']\n",
    "].sum(axis=1, skipna=True)"
   ]
  },
  {
   "cell_type": "code",
   "execution_count": 10,
   "id": "55ab4190-ecc6-4ac3-a248-6334805f8120",
   "metadata": {},
   "outputs": [
    {
     "data": {
      "text/html": [
       "<div>\n",
       "<style scoped>\n",
       "    .dataframe tbody tr th:only-of-type {\n",
       "        vertical-align: middle;\n",
       "    }\n",
       "\n",
       "    .dataframe tbody tr th {\n",
       "        vertical-align: top;\n",
       "    }\n",
       "\n",
       "    .dataframe thead th {\n",
       "        text-align: right;\n",
       "    }\n",
       "</style>\n",
       "<table border=\"1\" class=\"dataframe\">\n",
       "  <thead>\n",
       "    <tr style=\"text-align: right;\">\n",
       "      <th></th>\n",
       "      <th>Event.Id</th>\n",
       "      <th>Investigation.Type</th>\n",
       "      <th>Accident.Number</th>\n",
       "      <th>Event.Date</th>\n",
       "      <th>Location</th>\n",
       "      <th>Country</th>\n",
       "      <th>Latitude</th>\n",
       "      <th>Longitude</th>\n",
       "      <th>Airport.Code</th>\n",
       "      <th>Airport.Name</th>\n",
       "      <th>...</th>\n",
       "      <th>Air.carrier</th>\n",
       "      <th>Total.Fatal.Injuries</th>\n",
       "      <th>Total.Serious.Injuries</th>\n",
       "      <th>Total.Minor.Injuries</th>\n",
       "      <th>Total.Uninjured</th>\n",
       "      <th>Weather.Condition</th>\n",
       "      <th>Broad.phase.of.flight</th>\n",
       "      <th>Report.Status</th>\n",
       "      <th>Publication.Date</th>\n",
       "      <th>Total.Injuries</th>\n",
       "    </tr>\n",
       "  </thead>\n",
       "  <tbody>\n",
       "    <tr>\n",
       "      <th>0</th>\n",
       "      <td>20001218X45444</td>\n",
       "      <td>Accident</td>\n",
       "      <td>SEA87LA080</td>\n",
       "      <td>1948-10-24</td>\n",
       "      <td>MOOSE CREEK, ID</td>\n",
       "      <td>United States</td>\n",
       "      <td>NaN</td>\n",
       "      <td>NaN</td>\n",
       "      <td>NaN</td>\n",
       "      <td>NaN</td>\n",
       "      <td>...</td>\n",
       "      <td>NaN</td>\n",
       "      <td>2.0</td>\n",
       "      <td>0.0</td>\n",
       "      <td>0.0</td>\n",
       "      <td>0.0</td>\n",
       "      <td>UNK</td>\n",
       "      <td>Cruise</td>\n",
       "      <td>Probable Cause</td>\n",
       "      <td>NaN</td>\n",
       "      <td>2.0</td>\n",
       "    </tr>\n",
       "    <tr>\n",
       "      <th>1</th>\n",
       "      <td>20001218X45447</td>\n",
       "      <td>Accident</td>\n",
       "      <td>LAX94LA336</td>\n",
       "      <td>1962-07-19</td>\n",
       "      <td>BRIDGEPORT, CA</td>\n",
       "      <td>United States</td>\n",
       "      <td>NaN</td>\n",
       "      <td>NaN</td>\n",
       "      <td>NaN</td>\n",
       "      <td>NaN</td>\n",
       "      <td>...</td>\n",
       "      <td>NaN</td>\n",
       "      <td>4.0</td>\n",
       "      <td>0.0</td>\n",
       "      <td>0.0</td>\n",
       "      <td>0.0</td>\n",
       "      <td>UNK</td>\n",
       "      <td>Unknown</td>\n",
       "      <td>Probable Cause</td>\n",
       "      <td>19-09-1996</td>\n",
       "      <td>4.0</td>\n",
       "    </tr>\n",
       "    <tr>\n",
       "      <th>2</th>\n",
       "      <td>20061025X01555</td>\n",
       "      <td>Accident</td>\n",
       "      <td>NYC07LA005</td>\n",
       "      <td>1974-08-30</td>\n",
       "      <td>Saltville, VA</td>\n",
       "      <td>United States</td>\n",
       "      <td>36.922223</td>\n",
       "      <td>-81.878056</td>\n",
       "      <td>NaN</td>\n",
       "      <td>NaN</td>\n",
       "      <td>...</td>\n",
       "      <td>NaN</td>\n",
       "      <td>3.0</td>\n",
       "      <td>NaN</td>\n",
       "      <td>NaN</td>\n",
       "      <td>NaN</td>\n",
       "      <td>IMC</td>\n",
       "      <td>Cruise</td>\n",
       "      <td>Probable Cause</td>\n",
       "      <td>26-02-2007</td>\n",
       "      <td>3.0</td>\n",
       "    </tr>\n",
       "    <tr>\n",
       "      <th>3</th>\n",
       "      <td>20001218X45448</td>\n",
       "      <td>Accident</td>\n",
       "      <td>LAX96LA321</td>\n",
       "      <td>1977-06-19</td>\n",
       "      <td>EUREKA, CA</td>\n",
       "      <td>United States</td>\n",
       "      <td>NaN</td>\n",
       "      <td>NaN</td>\n",
       "      <td>NaN</td>\n",
       "      <td>NaN</td>\n",
       "      <td>...</td>\n",
       "      <td>NaN</td>\n",
       "      <td>2.0</td>\n",
       "      <td>0.0</td>\n",
       "      <td>0.0</td>\n",
       "      <td>0.0</td>\n",
       "      <td>IMC</td>\n",
       "      <td>Cruise</td>\n",
       "      <td>Probable Cause</td>\n",
       "      <td>12-09-2000</td>\n",
       "      <td>2.0</td>\n",
       "    </tr>\n",
       "    <tr>\n",
       "      <th>4</th>\n",
       "      <td>20041105X01764</td>\n",
       "      <td>Accident</td>\n",
       "      <td>CHI79FA064</td>\n",
       "      <td>1979-08-02</td>\n",
       "      <td>Canton, OH</td>\n",
       "      <td>United States</td>\n",
       "      <td>NaN</td>\n",
       "      <td>NaN</td>\n",
       "      <td>NaN</td>\n",
       "      <td>NaN</td>\n",
       "      <td>...</td>\n",
       "      <td>NaN</td>\n",
       "      <td>1.0</td>\n",
       "      <td>2.0</td>\n",
       "      <td>NaN</td>\n",
       "      <td>0.0</td>\n",
       "      <td>VMC</td>\n",
       "      <td>Approach</td>\n",
       "      <td>Probable Cause</td>\n",
       "      <td>16-04-1980</td>\n",
       "      <td>3.0</td>\n",
       "    </tr>\n",
       "    <tr>\n",
       "      <th>...</th>\n",
       "      <td>...</td>\n",
       "      <td>...</td>\n",
       "      <td>...</td>\n",
       "      <td>...</td>\n",
       "      <td>...</td>\n",
       "      <td>...</td>\n",
       "      <td>...</td>\n",
       "      <td>...</td>\n",
       "      <td>...</td>\n",
       "      <td>...</td>\n",
       "      <td>...</td>\n",
       "      <td>...</td>\n",
       "      <td>...</td>\n",
       "      <td>...</td>\n",
       "      <td>...</td>\n",
       "      <td>...</td>\n",
       "      <td>...</td>\n",
       "      <td>...</td>\n",
       "      <td>...</td>\n",
       "      <td>...</td>\n",
       "      <td>...</td>\n",
       "    </tr>\n",
       "    <tr>\n",
       "      <th>88884</th>\n",
       "      <td>20221227106491</td>\n",
       "      <td>Accident</td>\n",
       "      <td>ERA23LA093</td>\n",
       "      <td>2022-12-26</td>\n",
       "      <td>Annapolis, MD</td>\n",
       "      <td>United States</td>\n",
       "      <td>NaN</td>\n",
       "      <td>NaN</td>\n",
       "      <td>NaN</td>\n",
       "      <td>NaN</td>\n",
       "      <td>...</td>\n",
       "      <td>NaN</td>\n",
       "      <td>0.0</td>\n",
       "      <td>1.0</td>\n",
       "      <td>0.0</td>\n",
       "      <td>0.0</td>\n",
       "      <td>NaN</td>\n",
       "      <td>NaN</td>\n",
       "      <td>NaN</td>\n",
       "      <td>29-12-2022</td>\n",
       "      <td>1.0</td>\n",
       "    </tr>\n",
       "    <tr>\n",
       "      <th>88885</th>\n",
       "      <td>20221227106494</td>\n",
       "      <td>Accident</td>\n",
       "      <td>ERA23LA095</td>\n",
       "      <td>2022-12-26</td>\n",
       "      <td>Hampton, NH</td>\n",
       "      <td>United States</td>\n",
       "      <td>NaN</td>\n",
       "      <td>NaN</td>\n",
       "      <td>NaN</td>\n",
       "      <td>NaN</td>\n",
       "      <td>...</td>\n",
       "      <td>NaN</td>\n",
       "      <td>0.0</td>\n",
       "      <td>0.0</td>\n",
       "      <td>0.0</td>\n",
       "      <td>0.0</td>\n",
       "      <td>NaN</td>\n",
       "      <td>NaN</td>\n",
       "      <td>NaN</td>\n",
       "      <td>NaN</td>\n",
       "      <td>0.0</td>\n",
       "    </tr>\n",
       "    <tr>\n",
       "      <th>88886</th>\n",
       "      <td>20221227106497</td>\n",
       "      <td>Accident</td>\n",
       "      <td>WPR23LA075</td>\n",
       "      <td>2022-12-26</td>\n",
       "      <td>Payson, AZ</td>\n",
       "      <td>United States</td>\n",
       "      <td>341525N</td>\n",
       "      <td>1112021W</td>\n",
       "      <td>PAN</td>\n",
       "      <td>PAYSON</td>\n",
       "      <td>...</td>\n",
       "      <td>NaN</td>\n",
       "      <td>0.0</td>\n",
       "      <td>0.0</td>\n",
       "      <td>0.0</td>\n",
       "      <td>1.0</td>\n",
       "      <td>VMC</td>\n",
       "      <td>NaN</td>\n",
       "      <td>NaN</td>\n",
       "      <td>27-12-2022</td>\n",
       "      <td>0.0</td>\n",
       "    </tr>\n",
       "    <tr>\n",
       "      <th>88887</th>\n",
       "      <td>20221227106498</td>\n",
       "      <td>Accident</td>\n",
       "      <td>WPR23LA076</td>\n",
       "      <td>2022-12-26</td>\n",
       "      <td>Morgan, UT</td>\n",
       "      <td>United States</td>\n",
       "      <td>NaN</td>\n",
       "      <td>NaN</td>\n",
       "      <td>NaN</td>\n",
       "      <td>NaN</td>\n",
       "      <td>...</td>\n",
       "      <td>MC CESSNA 210N LLC</td>\n",
       "      <td>0.0</td>\n",
       "      <td>0.0</td>\n",
       "      <td>0.0</td>\n",
       "      <td>0.0</td>\n",
       "      <td>NaN</td>\n",
       "      <td>NaN</td>\n",
       "      <td>NaN</td>\n",
       "      <td>NaN</td>\n",
       "      <td>0.0</td>\n",
       "    </tr>\n",
       "    <tr>\n",
       "      <th>88888</th>\n",
       "      <td>20221230106513</td>\n",
       "      <td>Accident</td>\n",
       "      <td>ERA23LA097</td>\n",
       "      <td>2022-12-29</td>\n",
       "      <td>Athens, GA</td>\n",
       "      <td>United States</td>\n",
       "      <td>NaN</td>\n",
       "      <td>NaN</td>\n",
       "      <td>NaN</td>\n",
       "      <td>NaN</td>\n",
       "      <td>...</td>\n",
       "      <td>NaN</td>\n",
       "      <td>0.0</td>\n",
       "      <td>1.0</td>\n",
       "      <td>0.0</td>\n",
       "      <td>1.0</td>\n",
       "      <td>NaN</td>\n",
       "      <td>NaN</td>\n",
       "      <td>NaN</td>\n",
       "      <td>30-12-2022</td>\n",
       "      <td>1.0</td>\n",
       "    </tr>\n",
       "  </tbody>\n",
       "</table>\n",
       "<p>88889 rows × 32 columns</p>\n",
       "</div>"
      ],
      "text/plain": [
       "             Event.Id Investigation.Type Accident.Number  Event.Date  \\\n",
       "0      20001218X45444           Accident      SEA87LA080  1948-10-24   \n",
       "1      20001218X45447           Accident      LAX94LA336  1962-07-19   \n",
       "2      20061025X01555           Accident      NYC07LA005  1974-08-30   \n",
       "3      20001218X45448           Accident      LAX96LA321  1977-06-19   \n",
       "4      20041105X01764           Accident      CHI79FA064  1979-08-02   \n",
       "...               ...                ...             ...         ...   \n",
       "88884  20221227106491           Accident      ERA23LA093  2022-12-26   \n",
       "88885  20221227106494           Accident      ERA23LA095  2022-12-26   \n",
       "88886  20221227106497           Accident      WPR23LA075  2022-12-26   \n",
       "88887  20221227106498           Accident      WPR23LA076  2022-12-26   \n",
       "88888  20221230106513           Accident      ERA23LA097  2022-12-29   \n",
       "\n",
       "              Location        Country   Latitude   Longitude Airport.Code  \\\n",
       "0      MOOSE CREEK, ID  United States        NaN         NaN          NaN   \n",
       "1       BRIDGEPORT, CA  United States        NaN         NaN          NaN   \n",
       "2        Saltville, VA  United States  36.922223  -81.878056          NaN   \n",
       "3           EUREKA, CA  United States        NaN         NaN          NaN   \n",
       "4           Canton, OH  United States        NaN         NaN          NaN   \n",
       "...                ...            ...        ...         ...          ...   \n",
       "88884    Annapolis, MD  United States        NaN         NaN          NaN   \n",
       "88885      Hampton, NH  United States        NaN         NaN          NaN   \n",
       "88886       Payson, AZ  United States    341525N    1112021W          PAN   \n",
       "88887       Morgan, UT  United States        NaN         NaN          NaN   \n",
       "88888       Athens, GA  United States        NaN         NaN          NaN   \n",
       "\n",
       "      Airport.Name  ...         Air.carrier Total.Fatal.Injuries  \\\n",
       "0              NaN  ...                 NaN                  2.0   \n",
       "1              NaN  ...                 NaN                  4.0   \n",
       "2              NaN  ...                 NaN                  3.0   \n",
       "3              NaN  ...                 NaN                  2.0   \n",
       "4              NaN  ...                 NaN                  1.0   \n",
       "...            ...  ...                 ...                  ...   \n",
       "88884          NaN  ...                 NaN                  0.0   \n",
       "88885          NaN  ...                 NaN                  0.0   \n",
       "88886       PAYSON  ...                 NaN                  0.0   \n",
       "88887          NaN  ...  MC CESSNA 210N LLC                  0.0   \n",
       "88888          NaN  ...                 NaN                  0.0   \n",
       "\n",
       "      Total.Serious.Injuries Total.Minor.Injuries Total.Uninjured  \\\n",
       "0                        0.0                  0.0             0.0   \n",
       "1                        0.0                  0.0             0.0   \n",
       "2                        NaN                  NaN             NaN   \n",
       "3                        0.0                  0.0             0.0   \n",
       "4                        2.0                  NaN             0.0   \n",
       "...                      ...                  ...             ...   \n",
       "88884                    1.0                  0.0             0.0   \n",
       "88885                    0.0                  0.0             0.0   \n",
       "88886                    0.0                  0.0             1.0   \n",
       "88887                    0.0                  0.0             0.0   \n",
       "88888                    1.0                  0.0             1.0   \n",
       "\n",
       "      Weather.Condition Broad.phase.of.flight   Report.Status  \\\n",
       "0                   UNK                Cruise  Probable Cause   \n",
       "1                   UNK               Unknown  Probable Cause   \n",
       "2                   IMC                Cruise  Probable Cause   \n",
       "3                   IMC                Cruise  Probable Cause   \n",
       "4                   VMC              Approach  Probable Cause   \n",
       "...                 ...                   ...             ...   \n",
       "88884               NaN                   NaN             NaN   \n",
       "88885               NaN                   NaN             NaN   \n",
       "88886               VMC                   NaN             NaN   \n",
       "88887               NaN                   NaN             NaN   \n",
       "88888               NaN                   NaN             NaN   \n",
       "\n",
       "      Publication.Date Total.Injuries  \n",
       "0                  NaN            2.0  \n",
       "1           19-09-1996            4.0  \n",
       "2           26-02-2007            3.0  \n",
       "3           12-09-2000            2.0  \n",
       "4           16-04-1980            3.0  \n",
       "...                ...            ...  \n",
       "88884       29-12-2022            1.0  \n",
       "88885              NaN            0.0  \n",
       "88886       27-12-2022            0.0  \n",
       "88887              NaN            0.0  \n",
       "88888       30-12-2022            1.0  \n",
       "\n",
       "[88889 rows x 32 columns]"
      ]
     },
     "execution_count": 10,
     "metadata": {},
     "output_type": "execute_result"
    }
   ],
   "source": [
    "aviation_df"
   ]
  },
  {
   "cell_type": "markdown",
   "id": "cc84ccfb-dd84-430a-aa81-fbeff44c56cf",
   "metadata": {},
   "source": [
    "**Getting statistical information on the column Total.Injuries**"
   ]
  },
  {
   "cell_type": "code",
   "execution_count": 21,
   "id": "9c3b8776-e243-412e-981b-9ea4f6996f8a",
   "metadata": {},
   "outputs": [
    {
     "data": {
      "text/plain": [
       "count    88889.000000\n",
       "mean         1.114379\n",
       "std          6.027319\n",
       "min          0.000000\n",
       "25%          0.000000\n",
       "50%          0.000000\n",
       "75%          1.000000\n",
       "max        380.000000\n",
       "Name: Total.Injuries, dtype: float64"
      ]
     },
     "execution_count": 21,
     "metadata": {},
     "output_type": "execute_result"
    }
   ],
   "source": [
    "aviation_df['Total.Injuries'].describe()"
   ]
  },
  {
   "cell_type": "markdown",
   "id": "8ac1c08f-8456-4b8f-b098-2016acc48ffc",
   "metadata": {},
   "source": [
    "**Converting the ''Make' column to titlecase since some makes (eg. Cessna, CESSNA) are in lower case and others in uppercase, causing inconsistency**"
   ]
  },
  {
   "cell_type": "code",
   "execution_count": 11,
   "id": "0a785953-6236-4791-99c6-c5a162e21f23",
   "metadata": {},
   "outputs": [],
   "source": [
    "aviation_df['Make'] = aviation_df['Make'].str.title()"
   ]
  },
  {
   "cell_type": "markdown",
   "id": "f2aeea10-9d3e-4ce9-b7e6-99e51dddde8c",
   "metadata": {},
   "source": [
    "**Converting the 'Event.Date' column to a DateTime format**"
   ]
  },
  {
   "cell_type": "code",
   "execution_count": 20,
   "id": "0bc76ae4-c932-4136-933a-4eca862e0330",
   "metadata": {},
   "outputs": [],
   "source": [
    "aviation_df['Event.Date'] = pd.to_datetime(aviation_df['Event.Date'])"
   ]
  },
  {
   "cell_type": "markdown",
   "id": "dfccb2e5-7e23-4543-a885-2a48b3442b7d",
   "metadata": {},
   "source": [
    "# Data Analysis"
   ]
  },
  {
   "cell_type": "markdown",
   "id": "eaa6f3b2-7c5e-4bb1-b399-e347b97e66cb",
   "metadata": {},
   "source": [
    "#### Grouping data to better understand accident severity and aircrafts that are more reliable"
   ]
  },
  {
   "cell_type": "markdown",
   "id": "12c6b13d-43ac-40cc-b037-eb51ad24c166",
   "metadata": {},
   "source": [
    "**1. Impact of aircraft 'Make' on safety**"
   ]
  },
  {
   "cell_type": "code",
   "execution_count": 12,
   "id": "1cc7fddd-4337-41ac-ba1b-7807c1e89059",
   "metadata": {},
   "outputs": [
    {
     "name": "stdout",
     "output_type": "stream",
     "text": [
      "Make\n",
      "Kenetic Aviation            0.0\n",
      "Kendall W R/Mclaughlin J    0.0\n",
      "Kendall/Mckaughlin          0.0\n",
      "Zwart                       0.0\n",
      "Kennedy Michael M           0.0\n",
      "Kenneth B Hines             0.0\n",
      "Kenneth K Knowles           0.0\n",
      "Kenneth Miller              0.0\n",
      "Kenney                      0.0\n",
      "Kerlin                      0.0\n",
      "Name: Total.Injuries, dtype: float64\n"
     ]
    },
    {
     "data": {
      "text/plain": [
       "Make\n",
       "Kenetic Aviation                0.0\n",
       "Kendall W R/Mclaughlin J        0.0\n",
       "Kendall/Mckaughlin              0.0\n",
       "Zwart                           0.0\n",
       "Kennedy Michael M               0.0\n",
       "                             ...   \n",
       "Mcdonnell Douglas            3347.0\n",
       "Beech                        6220.0\n",
       "Piper                       13505.0\n",
       "Boeing                      13666.0\n",
       "Cessna                      21411.0\n",
       "Name: Total.Injuries, Length: 7587, dtype: float64"
      ]
     },
     "execution_count": 12,
     "metadata": {},
     "output_type": "execute_result"
    }
   ],
   "source": [
    "injuries_by_make = aviation_df.groupby('Make')['Total.Injuries'].sum().sort_values(ascending=True)\n",
    "print(injuries_by_make.head(10)) \n",
    "injuries_by_make"
   ]
  },
  {
   "cell_type": "markdown",
   "id": "7653223a-7c31-46f9-9da3-a379f0b73247",
   "metadata": {},
   "source": [
    "**Mean injuries on aircraft make**"
   ]
  },
  {
   "cell_type": "code",
   "execution_count": 22,
   "id": "fa01cdfc-afcf-4fdb-849f-186cd8e2cd2d",
   "metadata": {},
   "outputs": [
    {
     "data": {
      "text/plain": [
       "13.04310003954132"
      ]
     },
     "execution_count": 22,
     "metadata": {},
     "output_type": "execute_result"
    }
   ],
   "source": [
    "injuries_by_make.mean()"
   ]
  },
  {
   "cell_type": "markdown",
   "id": "fb1dcf83-358b-4b53-b7b5-0c6e30787b5b",
   "metadata": {},
   "source": [
    "**2. Impact of Aicraft category on safety**"
   ]
  },
  {
   "cell_type": "code",
   "execution_count": 13,
   "id": "35c67bbd-01d4-4fad-9d60-1603c2c06e1b",
   "metadata": {
    "scrolled": true
   },
   "outputs": [
    {
     "name": "stdout",
     "output_type": "stream",
     "text": [
      "Aircraft.Category\n",
      "UNK                      0.0\n",
      "Powered-Lift             1.0\n",
      "ULTR                     1.0\n",
      "Rocket                   2.0\n",
      "Blimp                    3.0\n",
      "WSFT                    13.0\n",
      "Unknown                 24.0\n",
      "Ultralight              29.0\n",
      "Powered Parachute      128.0\n",
      "Gyrocraft              129.0\n",
      "Weight-Shift           175.0\n",
      "Glider                 324.0\n",
      "Balloon                414.0\n",
      "Helicopter            3710.0\n",
      "Airplane             29577.0\n",
      "Name: Total.Injuries, dtype: float64\n"
     ]
    }
   ],
   "source": [
    "injuries_by_category = aviation_df.groupby('Aircraft.Category')['Total.Injuries'].sum().sort_values(ascending=True)\n",
    "print(injuries_by_category)"
   ]
  },
  {
   "cell_type": "markdown",
   "id": "e735e939-1840-4fb7-bd74-3277d477ec0a",
   "metadata": {},
   "source": [
    "**3. Impact of aircraft model on safety**"
   ]
  },
  {
   "cell_type": "code",
   "execution_count": 14,
   "id": "95d01a49-4822-407a-8c77-c1f49cfb170f",
   "metadata": {},
   "outputs": [
    {
     "name": "stdout",
     "output_type": "stream",
     "text": [
      "Model\n",
      "&GCBC                 0.0\n",
      "G1159B                0.0\n",
      "G10Z ASTIR CS         0.0\n",
      "G109                  0.0\n",
      "G103C                 0.0\n",
      "G103B                 0.0\n",
      "G103-TWINA            0.0\n",
      "G102 Std Astir III    0.0\n",
      "G102 Astir CS         0.0\n",
      "G-V                   0.0\n",
      "Name: Total.Injuries, dtype: float64\n",
      "Model\n",
      "&GCBC               0.0\n",
      "G1159B              0.0\n",
      "G10Z ASTIR CS       0.0\n",
      "G109                0.0\n",
      "G103C               0.0\n",
      "                  ...  \n",
      "PA-28-140         996.0\n",
      "152              1015.0\n",
      "737-200          1064.0\n",
      "172              1102.0\n",
      "737              1827.0\n",
      "Name: Total.Injuries, Length: 12318, dtype: float64\n"
     ]
    }
   ],
   "source": [
    "injuries_by_model = aviation_df.groupby('Model')['Total.Injuries'].sum().sort_values(ascending=True)\n",
    "print(injuries_by_model.head(10))\n",
    "print(injuries_by_model)"
   ]
  },
  {
   "cell_type": "markdown",
   "id": "2b74f759-cd83-48b8-88fc-34d34a656bc2",
   "metadata": {},
   "source": [
    "# Visualization\n",
    "\n",
    "**Top 10 Aircraft Makes with the highest injuries**"
   ]
  },
  {
   "cell_type": "code",
   "execution_count": 16,
   "id": "1db1698b-5e69-4cc5-a8fa-7a06883f4967",
   "metadata": {
    "scrolled": true
   },
   "outputs": [
    {
     "data": {
      "image/png": "[encoded data removed]",
      "text/plain": [
       "<Figure size 1000x600 with 1 Axes>"
      ]
     },
     "metadata": {},
     "output_type": "display_data"
    }
   ],
   "source": [
    "top_10_highest = injuries_by_make.tail(10)\n",
    "plt.figure(figsize=(10, 6))\n",
    "sns.barplot(x=top_10_highest.index, y=top_10_highest.values, color='blue')\n",
    "plt.xticks(rotation=45)\n",
    "plt.title('Top 10 Aircraft Makes with Highest Injuries')\n",
    "plt.xlabel('Aircraft Make')\n",
    "plt.ylabel('Total Injuries')\n",
    "plt.show()"
   ]
  },
  {
   "cell_type": "markdown",
   "id": "0b3b1e49-b75b-40cf-afad-f5e2995c9ce8",
   "metadata": {},
   "source": [
    "**Top 10 Aircraft Categories with the highest injuries**"
   ]
  },
  {
   "cell_type": "code",
   "execution_count": 17,
   "id": "2463c321-5975-481e-ae4e-f9eaf5739140",
   "metadata": {
    "scrolled": true
   },
   "outputs": [
    {
     "data": {
      "image/png": "[encoded data removed]",
      "text/plain": [
       "<Figure size 1200x600 with 1 Axes>"
      ]
     },
     "metadata": {},
     "output_type": "display_data"
    }
   ],
   "source": [
    "top_10 = injuries_by_category.tail(10)\n",
    "plt.figure(figsize=(12, 6))\n",
    "sns.lineplot(x=top_10.index, y=top_10.values, color='red')\n",
    "plt.xlabel('Aircraft Category')\n",
    "plt.ylabel('Total Injuries')\n",
    "plt.title('Top 10 Aircraft Categories with the Highest Injuries')\n",
    "plt.show()"
   ]
  },
  {
   "cell_type": "markdown",
   "id": "c1c48930-0f80-4e36-b19f-c37869faac3c",
   "metadata": {},
   "source": [
    "**Top 10 Aircraft Models with the Highest Injuries**"
   ]
  },
  {
   "cell_type": "code",
   "execution_count": 18,
   "id": "8afc2e68-784c-4007-8861-608050c44dcd",
   "metadata": {},
   "outputs": [
    {
     "data": {
      "image/png": "[encoded data removed]",
      "text/plain": [
       "<Figure size 1000x600 with 1 Axes>"
      ]
     },
     "metadata": {},
     "output_type": "display_data"
    }
   ],
   "source": [
    "top_10_models = injuries_by_model.tail(10) \n",
    "plt.figure(figsize=(10, 6))\n",
    "sns.barplot(x=top_10_models.index, y=top_10_models.values, color='red') \n",
    "plt.ylabel(\"Total Injuries\")\n",
    "plt.xlabel(\"Aircraft Model\")\n",
    "plt.title('Top 10 Aircraft Models with the Highest Injuries')\n",
    "plt.show()"
   ]
  },
  {
   "cell_type": "markdown",
   "id": "3a204c0d-80ff-4eb7-8afb-64dc47c64a31",
   "metadata": {},
   "source": [
    "#### **Findings and Recommendations for the Business**  \n",
    "\n",
    "##### **Finding 1: Certain Aircraft Models Have Significantly Higher Injury Counts**  \n",
    "- Analysis of Total Injuries by Aircraft Model shows that aircraft like the Cessna 172 and Boeing 737 have some of the highest recorded injuries. On the other hand, models such as G-V, G109, and G1159B have zero recorded injuries, indicating a strong safety record.  \n",
    "\n",
    "**Recommendation:** The company should prioritize acquiring aircraft models with low or zero historical injury records, as these indicate lower risk levels. More research into the safety features and operational environments of these models is important before purchase.  \n",
    "\n",
    "##### **Finding 2: Aircraft Category Plays a Major Role in Safety**  \n",
    "The Total Injuries by Aircraft Category analysis reveals that airplanes and helicopters have the highest injury counts, while gliders, balloons, and powered-lift aircraft have significantly fewer injuries.  \n",
    "- The high number of injuries in airplanes is likely due to their widespread commercial use rather than inherent design risks.  \n",
    "\n",
    "**Recommendation:**  \n",
    "If the company prioritizes safety over operational scale, investing in smaller aircraft categories such as powered-lift, ultralights, or gliders may reduce risk. If large commercial aircraft are required, choosing models with advanced safety records, advanced safety features, and lower accident rates is crucial.  \n",
    "\n",
    "\n",
    "##### **Finding 3: Aircraft Make Influences Safety Performance**  \n",
    "- The Total Injuries by Aircraft Make analysis indicates that Cessna, Piper, and Boeing have the highest number of recorded injuries. However, this does not necessarily mean these makes are unsafe—it could be due to their higher usage and fleet size.  \n",
    "- In contrast, manufacturers such as Mulholland, Curtiss-Wright, and MKII Corporation have zero recorded injuries, suggesting strong safety performance or limited operational exposure.  \n",
    "\n",
    "**Recommendation:**  \n",
    "The company should focus on aircraft manufacturers with strong safety records and lower historical injury counts. Conducting further research on accident rates per flight hour will provide deeper insights before making purchasing decisions.  \n",
    "\n",
    "\n",
    "#### **Conclusion:**  \n",
    "By selecting aircraft models with low injury counts, focusing on safer aircraft categories, and choosing manufacturers with strong safety records, the company can minimize operational risks while entering the aviation industry. "
   ]
  }
 ],
 "metadata": {
  "kernelspec": {
   "display_name": "Python 3 (ipykernel)",
   "language": "python",
   "name": "python3"
  },
  "language_info": {
   "codemirror_mode": {
    "name": "ipython",
    "version": 3
   },
   "file_extension": ".py",
   "mimetype": "text/x-python",
   "name": "python",
   "nbconvert_exporter": "python",
   "pygments_lexer": "ipython3",
   "version": "3.12.7"
  }
 },
 "nbformat": 4,
 "nbformat_minor": 5
}
